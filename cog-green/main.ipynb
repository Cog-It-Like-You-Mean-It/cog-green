{
 "cells": [
  {
   "cell_type": "code",
   "execution_count": 1,
   "source": [
    "import numpy as np\r\n",
    "import os\r\n",
    "import io\r\n",
    "import matplotlib.pyplot as plt"
   ],
   "outputs": [],
   "metadata": {}
  },
  {
   "cell_type": "markdown",
   "source": [
    "## loading and saving data"
   ],
   "metadata": {}
  },
  {
   "cell_type": "code",
   "execution_count": 18,
   "source": [
    "images = []\r\n",
    "labels = []"
   ],
   "outputs": [],
   "metadata": {}
  },
  {
   "cell_type": "code",
   "execution_count": 9,
   "source": [
    "def load_images(directory, label):\r\n",
    "    for filename in os.listdir(directory):\r\n",
    "        file_path = directory + \"/\" + filename\r\n",
    "        image = plt.imread(file_path)\r\n",
    "        images.append(image)\r\n",
    "        labels.append(label)"
   ],
   "outputs": [],
   "metadata": {}
  },
  {
   "cell_type": "code",
   "execution_count": null,
   "source": [
    "load_images(\"./data/trash\", 0)\r\n",
    "load_images(\"./data/paper-recycling\", 1)\r\n",
    "load_images(\"./data/other-recycling\", 2)"
   ],
   "outputs": [],
   "metadata": {}
  },
  {
   "cell_type": "code",
   "execution_count": 20,
   "source": [
    "np.save(\"images.npy\", np.array(images))\r\n",
    "np.save(\"labels.npy\", np.array(labels))"
   ],
   "outputs": [],
   "metadata": {}
  },
  {
   "cell_type": "markdown",
   "source": [
    "## Preprocessing and Memmap"
   ],
   "metadata": {}
  },
  {
   "cell_type": "code",
   "execution_count": 3,
   "source": [
    "images = np.load(\"./images.npy\", mmap_mode=\"r\")\r\n",
    "labels = np.load(\"./labels.npy\", mmap_mode=\"r\")"
   ],
   "outputs": [],
   "metadata": {}
  },
  {
   "cell_type": "code",
   "execution_count": 8,
   "source": [
    "images.shape"
   ],
   "outputs": [
    {
     "output_type": "execute_result",
     "data": {
      "text/plain": [
       "(2527, 384, 512, 3)"
      ]
     },
     "metadata": {},
     "execution_count": 8
    }
   ],
   "metadata": {}
  },
  {
   "cell_type": "code",
   "execution_count": 5,
   "source": [
    "# compute mean\r\n",
    "batch_size = int(len(labels) / 4)\r\n",
    "sum_ = 0\r\n",
    "for cnt in range(4):\r\n",
    "    total = images[cnt * batch_size:(cnt + 1) * batch_size].sum(axis=0)\r\n",
    "    sum_ += total\r\n",
    "mean_images = sum_ / len(labels)"
   ],
   "outputs": [],
   "metadata": {}
  },
  {
   "cell_type": "code",
   "execution_count": 6,
   "source": [
    "# compute standard deviation\r\n",
    "total = 0\r\n",
    "for cnt in range(4):\r\n",
    "    total += np.sum((images[cnt * batch_size:(cnt + 1) * batch_size] - mean_images) ** 2, axis=0)\r\n",
    "std_images = np.sqrt(total / len(labels))    "
   ],
   "outputs": [],
   "metadata": {}
  },
  {
   "cell_type": "code",
   "execution_count": 7,
   "source": [
    "# save mean and std\r\n",
    "np.save(\"./image_stats.npy\", (np.array(mean_images), np.array(std_images)))"
   ],
   "outputs": [],
   "metadata": {}
  },
  {
   "cell_type": "code",
   "execution_count": 4,
   "source": [
    "mean_images, std_images = np.load(\"./image_stats.npy\")"
   ],
   "outputs": [],
   "metadata": {}
  },
  {
   "cell_type": "code",
   "execution_count": 6,
   "source": [
    "# normalize all images\r\n",
    "batch_size = int(len(labels) / 4)\r\n",
    "normed_images = np.empty((2527, 3, 384, 512))\r\n",
    "for cnt in range(4):\r\n",
    "    normed_images[cnt * batch_size:(cnt + 1) * batch_size] = ((images[cnt * batch_size:(cnt + 1) * batch_size] - mean_images) / std_images).transpose(0,3,1,2)"
   ],
   "outputs": [],
   "metadata": {}
  },
  {
   "cell_type": "code",
   "execution_count": 13,
   "source": [
    "# transpose to fix dimensions\r\n",
    "normed_images = normed_images.transpose(0,3,1,2).copy()"
   ],
   "outputs": [
    {
     "output_type": "execute_result",
     "data": {
      "text/plain": [
       "memmap([[[[226, 198, 186],\n",
       "          [226, 198, 186],\n",
       "          [226, 198, 186],\n",
       "          ...,\n",
       "          [192, 172, 161],\n",
       "          [192, 172, 161],\n",
       "          [192, 172, 161]],\n",
       "\n",
       "         [[226, 198, 186],\n",
       "          [226, 198, 186],\n",
       "          [226, 198, 186],\n",
       "          ...,\n",
       "          [193, 173, 162],\n",
       "          [192, 172, 161],\n",
       "          [192, 172, 161]],\n",
       "\n",
       "         [[226, 198, 186],\n",
       "          [226, 198, 186],\n",
       "          [226, 198, 186],\n",
       "          ...,\n",
       "          [193, 173, 162],\n",
       "          [193, 173, 162],\n",
       "          [192, 172, 161]],\n",
       "\n",
       "         ...,\n",
       "\n",
       "         [[218, 191, 180],\n",
       "          [218, 191, 180],\n",
       "          [218, 191, 180],\n",
       "          ...,\n",
       "          [158, 139, 132],\n",
       "          [157, 138, 131],\n",
       "          [157, 138, 131]],\n",
       "\n",
       "         [[218, 192, 179],\n",
       "          [218, 192, 179],\n",
       "          [218, 192, 179],\n",
       "          ...,\n",
       "          [158, 139, 132],\n",
       "          [157, 138, 131],\n",
       "          [157, 138, 131]],\n",
       "\n",
       "         [[218, 192, 179],\n",
       "          [218, 192, 179],\n",
       "          [218, 192, 179],\n",
       "          ...,\n",
       "          [158, 139, 132],\n",
       "          [157, 138, 131],\n",
       "          [157, 138, 131]]],\n",
       "\n",
       "\n",
       "        [[[222, 208, 197],\n",
       "          [222, 208, 197],\n",
       "          [222, 208, 197],\n",
       "          ...,\n",
       "          [227, 214, 205],\n",
       "          [227, 214, 205],\n",
       "          [226, 213, 204]],\n",
       "\n",
       "         [[222, 208, 197],\n",
       "          [222, 208, 197],\n",
       "          [222, 208, 197],\n",
       "          ...,\n",
       "          [227, 214, 205],\n",
       "          [227, 214, 205],\n",
       "          [226, 213, 204]],\n",
       "\n",
       "         [[222, 208, 197],\n",
       "          [222, 208, 197],\n",
       "          [222, 208, 197],\n",
       "          ...,\n",
       "          [227, 214, 205],\n",
       "          [227, 214, 205],\n",
       "          [226, 213, 204]],\n",
       "\n",
       "         ...,\n",
       "\n",
       "         [[220, 206, 195],\n",
       "          [220, 206, 195],\n",
       "          [220, 206, 195],\n",
       "          ...,\n",
       "          [ 93,  85,  74],\n",
       "          [ 93,  85,  74],\n",
       "          [ 93,  85,  74]],\n",
       "\n",
       "         [[220, 206, 195],\n",
       "          [220, 206, 195],\n",
       "          [220, 206, 195],\n",
       "          ...,\n",
       "          [ 93,  85,  74],\n",
       "          [ 93,  85,  74],\n",
       "          [ 93,  85,  74]],\n",
       "\n",
       "         [[220, 206, 195],\n",
       "          [220, 206, 195],\n",
       "          [220, 206, 195],\n",
       "          ...,\n",
       "          [ 93,  85,  74],\n",
       "          [ 93,  85,  74],\n",
       "          [ 93,  85,  74]]],\n",
       "\n",
       "\n",
       "        [[[171, 144, 135],\n",
       "          [171, 144, 135],\n",
       "          [171, 144, 135],\n",
       "          ...,\n",
       "          [161, 140, 123],\n",
       "          [161, 140, 123],\n",
       "          [161, 140, 123]],\n",
       "\n",
       "         [[171, 144, 135],\n",
       "          [171, 144, 135],\n",
       "          [171, 144, 135],\n",
       "          ...,\n",
       "          [161, 140, 123],\n",
       "          [161, 140, 123],\n",
       "          [161, 140, 123]],\n",
       "\n",
       "         [[171, 144, 135],\n",
       "          [171, 144, 135],\n",
       "          [171, 144, 135],\n",
       "          ...,\n",
       "          [161, 140, 123],\n",
       "          [161, 140, 123],\n",
       "          [161, 140, 123]],\n",
       "\n",
       "         ...,\n",
       "\n",
       "         [[157, 135, 122],\n",
       "          [157, 135, 122],\n",
       "          [157, 135, 122],\n",
       "          ...,\n",
       "          [129, 111, 101],\n",
       "          [129, 111, 101],\n",
       "          [129, 111, 101]],\n",
       "\n",
       "         [[155, 133, 120],\n",
       "          [156, 134, 121],\n",
       "          [157, 135, 122],\n",
       "          ...,\n",
       "          [129, 111, 101],\n",
       "          [129, 111, 101],\n",
       "          [129, 111, 101]],\n",
       "\n",
       "         [[154, 132, 119],\n",
       "          [156, 134, 121],\n",
       "          [158, 136, 123],\n",
       "          ...,\n",
       "          [129, 111, 101],\n",
       "          [129, 111, 101],\n",
       "          [129, 111, 101]]],\n",
       "\n",
       "\n",
       "        ...,\n",
       "\n",
       "\n",
       "        [[[202, 185, 169],\n",
       "          [202, 185, 169],\n",
       "          [202, 185, 169],\n",
       "          ...,\n",
       "          [ 54,  46,  35],\n",
       "          [ 55,  47,  36],\n",
       "          [ 55,  47,  36]],\n",
       "\n",
       "         [[202, 185, 169],\n",
       "          [202, 185, 169],\n",
       "          [202, 185, 169],\n",
       "          ...,\n",
       "          [ 54,  46,  35],\n",
       "          [ 55,  47,  36],\n",
       "          [ 56,  48,  37]],\n",
       "\n",
       "         [[202, 185, 169],\n",
       "          [202, 185, 169],\n",
       "          [202, 185, 169],\n",
       "          ...,\n",
       "          [ 55,  47,  36],\n",
       "          [ 56,  48,  37],\n",
       "          [ 56,  48,  37]],\n",
       "\n",
       "         ...,\n",
       "\n",
       "         [[209, 191, 177],\n",
       "          [209, 191, 177],\n",
       "          [209, 191, 177],\n",
       "          ...,\n",
       "          [168, 155, 139],\n",
       "          [168, 155, 138],\n",
       "          [168, 155, 138]],\n",
       "\n",
       "         [[209, 191, 177],\n",
       "          [209, 191, 177],\n",
       "          [209, 191, 177],\n",
       "          ...,\n",
       "          [167, 154, 138],\n",
       "          [167, 154, 137],\n",
       "          [167, 154, 137]],\n",
       "\n",
       "         [[209, 191, 177],\n",
       "          [209, 191, 177],\n",
       "          [209, 191, 177],\n",
       "          ...,\n",
       "          [167, 154, 138],\n",
       "          [167, 154, 137],\n",
       "          [167, 154, 137]]],\n",
       "\n",
       "\n",
       "        [[[196, 196, 208],\n",
       "          [197, 197, 209],\n",
       "          [197, 197, 209],\n",
       "          ...,\n",
       "          [151, 152, 157],\n",
       "          [151, 152, 157],\n",
       "          [151, 152, 157]],\n",
       "\n",
       "         [[196, 196, 208],\n",
       "          [197, 197, 209],\n",
       "          [197, 197, 209],\n",
       "          ...,\n",
       "          [151, 152, 157],\n",
       "          [151, 152, 157],\n",
       "          [151, 152, 157]],\n",
       "\n",
       "         [[196, 196, 208],\n",
       "          [196, 196, 208],\n",
       "          [197, 197, 209],\n",
       "          ...,\n",
       "          [151, 152, 157],\n",
       "          [151, 152, 157],\n",
       "          [151, 152, 157]],\n",
       "\n",
       "         ...,\n",
       "\n",
       "         [[190, 190, 202],\n",
       "          [189, 189, 201],\n",
       "          [189, 189, 201],\n",
       "          ...,\n",
       "          [152, 153, 158],\n",
       "          [152, 153, 158],\n",
       "          [151, 152, 157]],\n",
       "\n",
       "         [[190, 190, 202],\n",
       "          [190, 190, 202],\n",
       "          [189, 189, 201],\n",
       "          ...,\n",
       "          [152, 153, 158],\n",
       "          [151, 152, 157],\n",
       "          [151, 152, 157]],\n",
       "\n",
       "         [[190, 190, 202],\n",
       "          [190, 190, 202],\n",
       "          [190, 190, 202],\n",
       "          ...,\n",
       "          [151, 152, 157],\n",
       "          [151, 152, 157],\n",
       "          [151, 152, 157]]],\n",
       "\n",
       "\n",
       "        [[[197, 199, 214],\n",
       "          [197, 199, 214],\n",
       "          [197, 199, 214],\n",
       "          ...,\n",
       "          [148, 150, 163],\n",
       "          [148, 150, 163],\n",
       "          [148, 150, 163]],\n",
       "\n",
       "         [[197, 199, 214],\n",
       "          [197, 199, 214],\n",
       "          [197, 199, 214],\n",
       "          ...,\n",
       "          [148, 150, 163],\n",
       "          [148, 150, 163],\n",
       "          [148, 150, 163]],\n",
       "\n",
       "         [[197, 199, 214],\n",
       "          [197, 199, 214],\n",
       "          [197, 199, 214],\n",
       "          ...,\n",
       "          [148, 150, 163],\n",
       "          [148, 150, 163],\n",
       "          [148, 150, 163]],\n",
       "\n",
       "         ...,\n",
       "\n",
       "         [[200, 202, 217],\n",
       "          [200, 202, 217],\n",
       "          [200, 202, 217],\n",
       "          ...,\n",
       "          [127, 129, 142],\n",
       "          [127, 129, 142],\n",
       "          [127, 129, 142]],\n",
       "\n",
       "         [[200, 202, 217],\n",
       "          [200, 202, 217],\n",
       "          [200, 202, 217],\n",
       "          ...,\n",
       "          [127, 129, 142],\n",
       "          [127, 129, 142],\n",
       "          [127, 129, 142]],\n",
       "\n",
       "         [[200, 202, 217],\n",
       "          [200, 202, 217],\n",
       "          [200, 202, 217],\n",
       "          ...,\n",
       "          [127, 129, 142],\n",
       "          [127, 129, 142],\n",
       "          [127, 129, 142]]]], dtype=uint8)"
      ]
     },
     "metadata": {},
     "execution_count": 13
    }
   ],
   "metadata": {}
  },
  {
   "cell_type": "code",
   "execution_count": 7,
   "source": [
    "# save normed images\r\n",
    "np.save(\"./normed_images.npy\", normed_images)"
   ],
   "outputs": [],
   "metadata": {}
  },
  {
   "cell_type": "code",
   "execution_count": 10,
   "source": [
    "normed_images.shape"
   ],
   "outputs": [
    {
     "output_type": "execute_result",
     "data": {
      "text/plain": [
       "(2527, 384, 512, 3)"
      ]
     },
     "metadata": {},
     "execution_count": 10
    }
   ],
   "metadata": {}
  },
  {
   "cell_type": "markdown",
   "source": [
    "## Train and test data split (not finished)"
   ],
   "metadata": {}
  },
  {
   "cell_type": "code",
   "execution_count": 3,
   "source": [
    "idxs = np.arange(len(labels))\r\n",
    "np.random.shuffle(idxs)\r\n",
    "idxs = idxs\r\n",
    "train_indices = idxs[0: int(0.75 * len(labels)) :20]\r\n",
    "test_indices = idxs[int(0.75 * len(labels))::20]"
   ],
   "outputs": [],
   "metadata": {}
  },
  {
   "cell_type": "code",
   "execution_count": 3,
   "source": [
    "x_train = images[train_indices]\r\n",
    "y_train = labels[train_indices]\r\n",
    "x_test = images[test_indices]\r\n",
    "y_test = labels[test_indices]\r\n",
    "x_train = x_train[:,::2, ::2, :]\r\n",
    "x_test = x_test[:,::2, ::2, :]"
   ],
   "outputs": [],
   "metadata": {}
  },
  {
   "cell_type": "code",
   "execution_count": 4,
   "source": [
    "x_train = x_train.reshape(len(x_train), -1).astype(np.float32)\r\n",
    "x_test = x_test.reshape(len(x_test), -1).astype(np.float32)"
   ],
   "outputs": [],
   "metadata": {}
  },
  {
   "cell_type": "markdown",
   "source": [
    "## Model and training"
   ],
   "metadata": {}
  },
  {
   "cell_type": "code",
   "execution_count": 9,
   "source": [
    "import torch\r\n",
    "from torch import tensor\r\n",
    "import torch.nn as nn\r\n",
    "relu = nn.functional.relu"
   ],
   "outputs": [],
   "metadata": {}
  },
  {
   "cell_type": "code",
   "execution_count": 10,
   "source": [
    "class Model(torch.nn.Module):\r\n",
    "    def __init__(self):\r\n",
    "        super().__init__()\r\n",
    "        \r\n",
    "        # MyNN's 'dense' layers are PyTorch's 'linear' layers.\r\n",
    "        # Note that these layers do not accept weight-initialization functions.\r\n",
    "        self.dense1 = nn.Linear(x_train.shape[1], 100)\r\n",
    "        #need kernel size and stride\r\n",
    "        self.CNN = nn.Conv2d(100, 50, 8, 8)\r\n",
    "        self.dense3 = nn.Linear(50, 3)\r\n",
    "        \r\n",
    "        # We have to separately overwrite the weights in the layers with\r\n",
    "        # the initialization scheme that we desire. Here, we use the\r\n",
    "        # \"xavier-normal\" initialization scheme for the weights, and \r\n",
    "        # initialize the biases to 0\r\n",
    "        # Note that these functions update the weights in-place; this \r\n",
    "        # is denoted, in pytorch, by the trailing underscore in the\r\n",
    "        # function name: `xavier_normal_`\r\n",
    "        # This is merely a convention adopted by PyTorch\r\n",
    "        for layer in (self.dense1, self.CNN, self.dense3):\r\n",
    "            nn.init.xavier_normal_(layer.weight, np.sqrt(2))\r\n",
    "            nn.init.constant_(layer.bias, 0)    \r\n",
    "        \r\n",
    "    def forward(self, x):\r\n",
    "        ''' Forward data through the network.\r\n",
    "        \r\n",
    "        This allows us to conveniently initialize a model `m` and then send data through it\r\n",
    "        to be classified by calling `m(x)`.\r\n",
    "        \r\n",
    "        Parameters\r\n",
    "        ----------\r\n",
    "        x : Union[numpy.ndarray, mygrad.Tensor], shape=(N, D)\r\n",
    "            The data to forward through the network.\r\n",
    "            \r\n",
    "        Returns\r\n",
    "        -------\r\n",
    "        mygrad.Tensor, shape=(N, 1)\r\n",
    "            The model outputs.\r\n",
    "        '''\r\n",
    "        return self.dense3(relu(self.CNN(relu(self.dense1(x)))))\r\n",
    "    \r\n",
    "    \r\n",
    "    \r\n",
    "def accuracy(predictions, truth):\r\n",
    "    \"\"\"\r\n",
    "    Returns the mean classification accuracy for a batch of predictions.\r\n",
    "    \r\n",
    "    Parameters\r\n",
    "    ----------\r\n",
    "    predictions : Union[numpy.ndarray, mg.Tensor], shape=(M, D)\r\n",
    "        The scores for D classes, for a batch of M data points\r\n",
    "    truth : numpy.ndarray, shape=(M,)\r\n",
    "        The true labels for each datum in the batch: each label is an\r\n",
    "        integer in [0, D)\r\n",
    "    \r\n",
    "    Returns\r\n",
    "    -------\r\n",
    "    float\r\n",
    "    \"\"\"\r\n",
    "    if isinstance(predictions, mg.Tensor):\r\n",
    "        predictions = predictions.data\r\n",
    "    return np.mean((torch.argmax(prediction, dim=1) == truth).cpu().numpy())"
   ],
   "outputs": [],
   "metadata": {}
  },
  {
   "cell_type": "code",
   "execution_count": null,
   "source": [
    "# We will place these tensors in gpu memory, if a gpu is available, otherwise\r\n",
    "# we will simply use the CPU. It is very unlikely that your laptop has a\r\n",
    "# GPU for us to leverage.\r\n",
    "device =  torch.device('cuda' if torch.cuda.is_available() else 'cpu')"
   ],
   "outputs": [],
   "metadata": {}
  },
  {
   "cell_type": "code",
   "execution_count": null,
   "source": [
    "from noggin import create_plot\r\n",
    "plotter, fig, ax = create_plot(metrics=[\"loss\", \"accuracy\"])"
   ],
   "outputs": [],
   "metadata": {}
  },
  {
   "cell_type": "code",
   "execution_count": null,
   "source": [
    "# initialize our model and place its parameters on the GPU if it is available\r\n",
    "model =  Model().to(device)\r\n",
    "\r\n",
    "# initialize the optimizer\r\n",
    "optim = torch.optim.Adam(model.parameters(), weight_decay=5E-3)"
   ],
   "outputs": [],
   "metadata": {}
  },
  {
   "cell_type": "code",
   "execution_count": null,
   "source": [
    "num_epoch = \r\n",
    "batch_size = \r\n",
    "\r\n",
    "for epoch_cnt in range(num_epoch):\r\n",
    "    train_data = torch.tensor(x_train).to(device)\r\n",
    "    test_data = torch.tensor(y_train, dtype=torch.int64).to(device)\r\n",
    "\r\n",
    "    X = torch.tensor(x_test).to(device)\r\n",
    "    Y = torch.tensor(y_test, dtype=torch.int64).to(device)"
   ],
   "outputs": [],
   "metadata": {}
  }
 ],
 "metadata": {
  "kernelspec": {
   "display_name": "Python 3",
   "language": "python",
   "name": "python3"
  },
  "language_info": {
   "codemirror_mode": {
    "name": "ipython",
    "version": 3
   },
   "file_extension": ".py",
   "mimetype": "text/x-python",
   "name": "python",
   "nbconvert_exporter": "python",
   "pygments_lexer": "ipython3",
   "version": "3.8.10"
  }
 },
 "nbformat": 4,
 "nbformat_minor": 5
}