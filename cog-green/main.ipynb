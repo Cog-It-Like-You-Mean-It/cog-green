{
 "cells": [
  {
   "cell_type": "code",
   "execution_count": 1,
   "id": "a37d8c75",
   "metadata": {},
   "outputs": [],
   "source": [
    "import numpy as np\n",
    "import os\n",
    "import io\n",
    "import matplotlib.pyplot as plt"
   ]
  },
  {
   "cell_type": "markdown",
   "id": "d3d2e068",
   "metadata": {},
   "source": [
    "## loading and saving data"
   ]
  },
  {
   "cell_type": "code",
   "execution_count": 18,
   "id": "5f977eba",
   "metadata": {},
   "outputs": [],
   "source": [
    "images = []\n",
    "labels = []"
   ]
  },
  {
   "cell_type": "code",
   "execution_count": 9,
   "id": "f5caa059",
   "metadata": {},
   "outputs": [],
   "source": [
    "def load_images(directory, label):\n",
    "    for filename in os.listdir(directory):\n",
    "        file_path = directory + \"/\" + filename\n",
    "        image = plt.imread(file_path)\n",
    "        images.append(image)\n",
    "        labels.append(label)"
   ]
  },
  {
   "cell_type": "code",
   "execution_count": null,
   "id": "654106ff",
   "metadata": {},
   "outputs": [],
   "source": [
    "load_images(\"./data/trash\", 0)\n",
    "load_images(\"./data/paper-recycling\", 1)\n",
    "load_images(\"./data/other-recycling\", 2)"
   ]
  },
  {
   "cell_type": "code",
   "execution_count": 20,
   "id": "0135ed6d",
   "metadata": {},
   "outputs": [],
   "source": [
    "np.save(\"images.npy\", np.array(images))\n",
    "np.save(\"labels.npy\", np.array(labels))"
   ]
  },
  {
   "cell_type": "markdown",
   "id": "2b6ce222",
   "metadata": {},
   "source": [
    "## Preprocessing and Memmap"
   ]
  },
  {
   "cell_type": "code",
   "execution_count": 3,
   "id": "b68e4ffe",
   "metadata": {},
   "outputs": [],
   "source": [
    "images = np.load(\"./images.npy\", mmap_mode=\"r\")\n",
    "labels = np.load(\"./labels.npy\", mmap_mode=\"r\")"
   ]
  },
  {
   "cell_type": "code",
   "execution_count": 8,
   "id": "ac9e0b79",
   "metadata": {},
   "outputs": [
    {
     "data": {
      "text/plain": [
       "(2527, 384, 512, 3)"
      ]
     },
     "execution_count": 8,
     "metadata": {},
     "output_type": "execute_result"
    }
   ],
   "source": [
    "images.shape"
   ]
  },
  {
   "cell_type": "code",
   "execution_count": 2,
   "id": "c179c9e3",
   "metadata": {},
   "outputs": [],
   "source": [
    "# make some random images\n",
    "images = np.random.rand(25, 384, 512, 3)\n",
    "\n",
    "# save them to disk\n",
    "np.save(\"some_images.npy\", images)\n",
    "\n",
    "# open numpy array as a \"memory map\"\n",
    "memmap = np.load(\"some_images.npy\", mmap_mode=\"r\")\n",
    "\n",
    "# load in first five images from disk\n",
    "first_five_images = np.array(memmap[:5])"
   ]
  },
  {
   "cell_type": "code",
   "execution_count": 5,
   "id": "1c0535cc",
   "metadata": {},
   "outputs": [],
   "source": [
    "batch_size = int(len(labels) / 4)\n",
    "sum_ = 0\n",
    "for cnt in range(4):\n",
    "    total = images[cnt * batch_size:(cnt + 1) * batch_size].sum(axis=0)\n",
    "    sum_ += total\n",
    "mean_images = sum_ / len(labels)"
   ]
  },
  {
   "cell_type": "code",
   "execution_count": 6,
   "id": "47308a7c",
   "metadata": {},
   "outputs": [],
   "source": [
    "total = 0\n",
    "for cnt in range(4):\n",
    "    total += np.sum((images[cnt * batch_size:(cnt + 1) * batch_size] - mean_images) ** 2, axis=0)\n",
    "std_images = np.sqrt(total / len(labels))    "
   ]
  },
  {
   "cell_type": "code",
   "execution_count": 8,
   "id": "b3e3ca32",
   "metadata": {},
   "outputs": [
    {
     "data": {
      "text/plain": [
       "(2527, 3, 384, 512)"
      ]
     },
     "execution_count": 8,
     "metadata": {},
     "output_type": "execute_result"
    }
   ],
   "source": [
    "images.transpose(0,3,1,2).shape"
   ]
  },
  {
   "cell_type": "code",
   "execution_count": null,
   "id": "bb5710d8",
   "metadata": {},
   "outputs": [],
   "source": []
  },
  {
   "cell_type": "code",
   "execution_count": 7,
   "id": "70d52c30",
   "metadata": {},
   "outputs": [],
   "source": [
    "np.save(\"./image_stats.npy\", (np.array(mean_images), np.array(std_images)))"
   ]
  },
  {
   "cell_type": "code",
   "execution_count": 4,
   "id": "849f4260",
   "metadata": {},
   "outputs": [],
   "source": [
    "mean_images, std_images = np.load(\"./image_stats.npy\")"
   ]
  },
  {
   "cell_type": "code",
   "execution_count": 6,
   "id": "4bad6923",
   "metadata": {},
   "outputs": [],
   "source": [
    "batch_size = int(len(labels) / 4)\n",
    "normed_images = np.empty((2527, 3, 384, 512))\n",
    "for cnt in range(4):\n",
    "    normed_images[cnt * batch_size:(cnt + 1) * batch_size] = ((images[cnt * batch_size:(cnt + 1) * batch_size] - mean_images) / std_images).transpose(0,3,1,2)"
   ]
  },
  {
   "cell_type": "code",
   "execution_count": 13,
   "id": "4701441a",
   "metadata": {},
   "outputs": [
    {
     "data": {
      "text/plain": [
       "memmap([[[[226, 198, 186],\n",
       "          [226, 198, 186],\n",
       "          [226, 198, 186],\n",
       "          ...,\n",
       "          [192, 172, 161],\n",
       "          [192, 172, 161],\n",
       "          [192, 172, 161]],\n",
       "\n",
       "         [[226, 198, 186],\n",
       "          [226, 198, 186],\n",
       "          [226, 198, 186],\n",
       "          ...,\n",
       "          [193, 173, 162],\n",
       "          [192, 172, 161],\n",
       "          [192, 172, 161]],\n",
       "\n",
       "         [[226, 198, 186],\n",
       "          [226, 198, 186],\n",
       "          [226, 198, 186],\n",
       "          ...,\n",
       "          [193, 173, 162],\n",
       "          [193, 173, 162],\n",
       "          [192, 172, 161]],\n",
       "\n",
       "         ...,\n",
       "\n",
       "         [[218, 191, 180],\n",
       "          [218, 191, 180],\n",
       "          [218, 191, 180],\n",
       "          ...,\n",
       "          [158, 139, 132],\n",
       "          [157, 138, 131],\n",
       "          [157, 138, 131]],\n",
       "\n",
       "         [[218, 192, 179],\n",
       "          [218, 192, 179],\n",
       "          [218, 192, 179],\n",
       "          ...,\n",
       "          [158, 139, 132],\n",
       "          [157, 138, 131],\n",
       "          [157, 138, 131]],\n",
       "\n",
       "         [[218, 192, 179],\n",
       "          [218, 192, 179],\n",
       "          [218, 192, 179],\n",
       "          ...,\n",
       "          [158, 139, 132],\n",
       "          [157, 138, 131],\n",
       "          [157, 138, 131]]],\n",
       "\n",
       "\n",
       "        [[[222, 208, 197],\n",
       "          [222, 208, 197],\n",
       "          [222, 208, 197],\n",
       "          ...,\n",
       "          [227, 214, 205],\n",
       "          [227, 214, 205],\n",
       "          [226, 213, 204]],\n",
       "\n",
       "         [[222, 208, 197],\n",
       "          [222, 208, 197],\n",
       "          [222, 208, 197],\n",
       "          ...,\n",
       "          [227, 214, 205],\n",
       "          [227, 214, 205],\n",
       "          [226, 213, 204]],\n",
       "\n",
       "         [[222, 208, 197],\n",
       "          [222, 208, 197],\n",
       "          [222, 208, 197],\n",
       "          ...,\n",
       "          [227, 214, 205],\n",
       "          [227, 214, 205],\n",
       "          [226, 213, 204]],\n",
       "\n",
       "         ...,\n",
       "\n",
       "         [[220, 206, 195],\n",
       "          [220, 206, 195],\n",
       "          [220, 206, 195],\n",
       "          ...,\n",
       "          [ 93,  85,  74],\n",
       "          [ 93,  85,  74],\n",
       "          [ 93,  85,  74]],\n",
       "\n",
       "         [[220, 206, 195],\n",
       "          [220, 206, 195],\n",
       "          [220, 206, 195],\n",
       "          ...,\n",
       "          [ 93,  85,  74],\n",
       "          [ 93,  85,  74],\n",
       "          [ 93,  85,  74]],\n",
       "\n",
       "         [[220, 206, 195],\n",
       "          [220, 206, 195],\n",
       "          [220, 206, 195],\n",
       "          ...,\n",
       "          [ 93,  85,  74],\n",
       "          [ 93,  85,  74],\n",
       "          [ 93,  85,  74]]],\n",
       "\n",
       "\n",
       "        [[[171, 144, 135],\n",
       "          [171, 144, 135],\n",
       "          [171, 144, 135],\n",
       "          ...,\n",
       "          [161, 140, 123],\n",
       "          [161, 140, 123],\n",
       "          [161, 140, 123]],\n",
       "\n",
       "         [[171, 144, 135],\n",
       "          [171, 144, 135],\n",
       "          [171, 144, 135],\n",
       "          ...,\n",
       "          [161, 140, 123],\n",
       "          [161, 140, 123],\n",
       "          [161, 140, 123]],\n",
       "\n",
       "         [[171, 144, 135],\n",
       "          [171, 144, 135],\n",
       "          [171, 144, 135],\n",
       "          ...,\n",
       "          [161, 140, 123],\n",
       "          [161, 140, 123],\n",
       "          [161, 140, 123]],\n",
       "\n",
       "         ...,\n",
       "\n",
       "         [[157, 135, 122],\n",
       "          [157, 135, 122],\n",
       "          [157, 135, 122],\n",
       "          ...,\n",
       "          [129, 111, 101],\n",
       "          [129, 111, 101],\n",
       "          [129, 111, 101]],\n",
       "\n",
       "         [[155, 133, 120],\n",
       "          [156, 134, 121],\n",
       "          [157, 135, 122],\n",
       "          ...,\n",
       "          [129, 111, 101],\n",
       "          [129, 111, 101],\n",
       "          [129, 111, 101]],\n",
       "\n",
       "         [[154, 132, 119],\n",
       "          [156, 134, 121],\n",
       "          [158, 136, 123],\n",
       "          ...,\n",
       "          [129, 111, 101],\n",
       "          [129, 111, 101],\n",
       "          [129, 111, 101]]],\n",
       "\n",
       "\n",
       "        ...,\n",
       "\n",
       "\n",
       "        [[[202, 185, 169],\n",
       "          [202, 185, 169],\n",
       "          [202, 185, 169],\n",
       "          ...,\n",
       "          [ 54,  46,  35],\n",
       "          [ 55,  47,  36],\n",
       "          [ 55,  47,  36]],\n",
       "\n",
       "         [[202, 185, 169],\n",
       "          [202, 185, 169],\n",
       "          [202, 185, 169],\n",
       "          ...,\n",
       "          [ 54,  46,  35],\n",
       "          [ 55,  47,  36],\n",
       "          [ 56,  48,  37]],\n",
       "\n",
       "         [[202, 185, 169],\n",
       "          [202, 185, 169],\n",
       "          [202, 185, 169],\n",
       "          ...,\n",
       "          [ 55,  47,  36],\n",
       "          [ 56,  48,  37],\n",
       "          [ 56,  48,  37]],\n",
       "\n",
       "         ...,\n",
       "\n",
       "         [[209, 191, 177],\n",
       "          [209, 191, 177],\n",
       "          [209, 191, 177],\n",
       "          ...,\n",
       "          [168, 155, 139],\n",
       "          [168, 155, 138],\n",
       "          [168, 155, 138]],\n",
       "\n",
       "         [[209, 191, 177],\n",
       "          [209, 191, 177],\n",
       "          [209, 191, 177],\n",
       "          ...,\n",
       "          [167, 154, 138],\n",
       "          [167, 154, 137],\n",
       "          [167, 154, 137]],\n",
       "\n",
       "         [[209, 191, 177],\n",
       "          [209, 191, 177],\n",
       "          [209, 191, 177],\n",
       "          ...,\n",
       "          [167, 154, 138],\n",
       "          [167, 154, 137],\n",
       "          [167, 154, 137]]],\n",
       "\n",
       "\n",
       "        [[[196, 196, 208],\n",
       "          [197, 197, 209],\n",
       "          [197, 197, 209],\n",
       "          ...,\n",
       "          [151, 152, 157],\n",
       "          [151, 152, 157],\n",
       "          [151, 152, 157]],\n",
       "\n",
       "         [[196, 196, 208],\n",
       "          [197, 197, 209],\n",
       "          [197, 197, 209],\n",
       "          ...,\n",
       "          [151, 152, 157],\n",
       "          [151, 152, 157],\n",
       "          [151, 152, 157]],\n",
       "\n",
       "         [[196, 196, 208],\n",
       "          [196, 196, 208],\n",
       "          [197, 197, 209],\n",
       "          ...,\n",
       "          [151, 152, 157],\n",
       "          [151, 152, 157],\n",
       "          [151, 152, 157]],\n",
       "\n",
       "         ...,\n",
       "\n",
       "         [[190, 190, 202],\n",
       "          [189, 189, 201],\n",
       "          [189, 189, 201],\n",
       "          ...,\n",
       "          [152, 153, 158],\n",
       "          [152, 153, 158],\n",
       "          [151, 152, 157]],\n",
       "\n",
       "         [[190, 190, 202],\n",
       "          [190, 190, 202],\n",
       "          [189, 189, 201],\n",
       "          ...,\n",
       "          [152, 153, 158],\n",
       "          [151, 152, 157],\n",
       "          [151, 152, 157]],\n",
       "\n",
       "         [[190, 190, 202],\n",
       "          [190, 190, 202],\n",
       "          [190, 190, 202],\n",
       "          ...,\n",
       "          [151, 152, 157],\n",
       "          [151, 152, 157],\n",
       "          [151, 152, 157]]],\n",
       "\n",
       "\n",
       "        [[[197, 199, 214],\n",
       "          [197, 199, 214],\n",
       "          [197, 199, 214],\n",
       "          ...,\n",
       "          [148, 150, 163],\n",
       "          [148, 150, 163],\n",
       "          [148, 150, 163]],\n",
       "\n",
       "         [[197, 199, 214],\n",
       "          [197, 199, 214],\n",
       "          [197, 199, 214],\n",
       "          ...,\n",
       "          [148, 150, 163],\n",
       "          [148, 150, 163],\n",
       "          [148, 150, 163]],\n",
       "\n",
       "         [[197, 199, 214],\n",
       "          [197, 199, 214],\n",
       "          [197, 199, 214],\n",
       "          ...,\n",
       "          [148, 150, 163],\n",
       "          [148, 150, 163],\n",
       "          [148, 150, 163]],\n",
       "\n",
       "         ...,\n",
       "\n",
       "         [[200, 202, 217],\n",
       "          [200, 202, 217],\n",
       "          [200, 202, 217],\n",
       "          ...,\n",
       "          [127, 129, 142],\n",
       "          [127, 129, 142],\n",
       "          [127, 129, 142]],\n",
       "\n",
       "         [[200, 202, 217],\n",
       "          [200, 202, 217],\n",
       "          [200, 202, 217],\n",
       "          ...,\n",
       "          [127, 129, 142],\n",
       "          [127, 129, 142],\n",
       "          [127, 129, 142]],\n",
       "\n",
       "         [[200, 202, 217],\n",
       "          [200, 202, 217],\n",
       "          [200, 202, 217],\n",
       "          ...,\n",
       "          [127, 129, 142],\n",
       "          [127, 129, 142],\n",
       "          [127, 129, 142]]]], dtype=uint8)"
      ]
     },
     "execution_count": 13,
     "metadata": {},
     "output_type": "execute_result"
    }
   ],
   "source": [
    "normed_images = normed_images.transpose(0,3,1,2).copy()"
   ]
  },
  {
   "cell_type": "code",
   "execution_count": 7,
   "id": "a2b6e258",
   "metadata": {},
   "outputs": [],
   "source": [
    "np.save(\"./normed_images.npy\", normed_images)"
   ]
  },
  {
   "cell_type": "code",
   "execution_count": 10,
   "id": "d0290eea",
   "metadata": {},
   "outputs": [
    {
     "data": {
      "text/plain": [
       "(2527, 384, 512, 3)"
      ]
     },
     "execution_count": 10,
     "metadata": {},
     "output_type": "execute_result"
    }
   ],
   "source": [
    "normed_images.shape"
   ]
  },
  {
   "cell_type": "code",
   "execution_count": 3,
   "id": "8b96fe35",
   "metadata": {},
   "outputs": [],
   "source": [
    "idxs = np.arange(len(labels))\n",
    "np.random.shuffle(idxs)\n",
    "idxs = idxs\n",
    "train_indices = idxs[0: int(0.75 * len(labels)) :20]\n",
    "test_indices = idxs[int(0.75 * len(labels))::20]"
   ]
  },
  {
   "cell_type": "code",
   "execution_count": 3,
   "id": "3d1caa72",
   "metadata": {},
   "outputs": [],
   "source": [
    "x_train = images[train_indices]\n",
    "y_train = labels[train_indices]\n",
    "x_test = images[test_indices]\n",
    "y_test = labels[test_indices]\n",
    "x_train = x_train[:,::2, ::2, :]\n",
    "x_test = x_test[:,::2, ::2, :]"
   ]
  },
  {
   "cell_type": "code",
   "execution_count": 4,
   "id": "c487cf9a",
   "metadata": {},
   "outputs": [],
   "source": [
    "x_train = x_train.reshape(len(x_train), -1).astype(np.float32)\n",
    "x_test = x_test.reshape(len(x_test), -1).astype(np.float32)"
   ]
  },
  {
   "cell_type": "code",
   "execution_count": 5,
   "id": "8df5ecd6",
   "metadata": {},
   "outputs": [],
   "source": [
    "def normalize(data):\n",
    "    avg = np.mean(data, axis=0)\n",
    "    std = np.std(data, axis=0)\n",
    "    return (data - avg) / std"
   ]
  },
  {
   "cell_type": "code",
   "execution_count": 6,
   "id": "ba237f20",
   "metadata": {},
   "outputs": [
    {
     "ename": "KeyboardInterrupt",
     "evalue": "",
     "output_type": "error",
     "traceback": [
      "\u001b[0;31m---------------------------------------------------------------------------\u001b[0m",
      "\u001b[0;31mKeyboardInterrupt\u001b[0m                         Traceback (most recent call last)",
      "\u001b[0;32m<ipython-input-6-bcc3d2ab746f>\u001b[0m in \u001b[0;36m<module>\u001b[0;34m\u001b[0m\n\u001b[1;32m      2\u001b[0m \u001b[0mstd_image\u001b[0m \u001b[0;34m=\u001b[0m \u001b[0mnp\u001b[0m\u001b[0;34m.\u001b[0m\u001b[0mstd\u001b[0m\u001b[0;34m(\u001b[0m\u001b[0mx_train\u001b[0m\u001b[0;34m,\u001b[0m \u001b[0maxis\u001b[0m\u001b[0;34m=\u001b[0m\u001b[0;36m0\u001b[0m\u001b[0;34m)\u001b[0m\u001b[0;34m\u001b[0m\u001b[0;34m\u001b[0m\u001b[0m\n\u001b[1;32m      3\u001b[0m \u001b[0mnormed_x_train\u001b[0m \u001b[0;34m=\u001b[0m \u001b[0;34m(\u001b[0m\u001b[0mx_train\u001b[0m \u001b[0;34m-\u001b[0m \u001b[0mmean_image\u001b[0m\u001b[0;34m)\u001b[0m \u001b[0;34m/\u001b[0m \u001b[0mstd_image\u001b[0m\u001b[0;34m\u001b[0m\u001b[0;34m\u001b[0m\u001b[0m\n\u001b[0;32m----> 4\u001b[0;31m \u001b[0mnormed_x_test\u001b[0m \u001b[0;34m=\u001b[0m \u001b[0;34m(\u001b[0m\u001b[0mx_test\u001b[0m \u001b[0;34m-\u001b[0m \u001b[0mmean_image\u001b[0m\u001b[0;34m)\u001b[0m \u001b[0;34m/\u001b[0m \u001b[0mstd_image\u001b[0m\u001b[0;34m\u001b[0m\u001b[0;34m\u001b[0m\u001b[0m\n\u001b[0m",
      "\u001b[0;31mKeyboardInterrupt\u001b[0m: "
     ]
    }
   ],
   "source": [
    "mean_image = np.mean(x_train, axis=0)\n",
    "std_image = np.std(x_train, axis=0)\n",
    "normed_x_train = (x_train - mean_image) / std_image\n",
    "normed_x_test = (x_test - mean_image) / std_image"
   ]
  },
  {
   "cell_type": "markdown",
   "id": "80783ff6",
   "metadata": {},
   "source": [
    "## Model and training"
   ]
  },
  {
   "cell_type": "code",
   "execution_count": 9,
   "id": "c284e6d0",
   "metadata": {},
   "outputs": [],
   "source": [
    "import torch\n",
    "from torch import tensor\n",
    "import torch.nn as nn\n",
    "relu = nn.functional.relu"
   ]
  },
  {
   "cell_type": "code",
   "execution_count": 10,
   "id": "72896988",
   "metadata": {},
   "outputs": [],
   "source": [
    "class Model(torch.nn.Module):\n",
    "    def __init__(self):\n",
    "        super().__init__()\n",
    "        \n",
    "        # MyNN's 'dense' layers are PyTorch's 'linear' layers.\n",
    "        # Note that these layers do not accept weight-initialization functions.\n",
    "        self.dense1 = nn.Linear(x_train.shape[1], 100)\n",
    "        #need kernel size and stride\n",
    "        self.CNN = nn.Conv2d(100, 50, 8, 8)\n",
    "        self.dense3 = nn.Linear(50, 3)\n",
    "        \n",
    "        # We have to separately overwrite the weights in the layers with\n",
    "        # the initialization scheme that we desire. Here, we use the\n",
    "        # \"xavier-normal\" initialization scheme for the weights, and \n",
    "        # initialize the biases to 0\n",
    "        # Note that these functions update the weights in-place; this \n",
    "        # is denoted, in pytorch, by the trailing underscore in the\n",
    "        # function name: `xavier_normal_`\n",
    "        # This is merely a convention adopted by PyTorch\n",
    "        for layer in (self.dense1, self.CNN, self.dense3):\n",
    "            nn.init.xavier_normal_(layer.weight, np.sqrt(2))\n",
    "            nn.init.constant_(layer.bias, 0)    \n",
    "        \n",
    "    def forward(self, x):\n",
    "        ''' Forward data through the network.\n",
    "        \n",
    "        This allows us to conveniently initialize a model `m` and then send data through it\n",
    "        to be classified by calling `m(x)`.\n",
    "        \n",
    "        Parameters\n",
    "        ----------\n",
    "        x : Union[numpy.ndarray, mygrad.Tensor], shape=(N, D)\n",
    "            The data to forward through the network.\n",
    "            \n",
    "        Returns\n",
    "        -------\n",
    "        mygrad.Tensor, shape=(N, 1)\n",
    "            The model outputs.\n",
    "        '''\n",
    "        return self.dense3(relu(self.CNN(relu(self.dense1(x)))))\n",
    "    \n",
    "    \n",
    "    \n",
    "def accuracy(predictions, truth):\n",
    "    \"\"\"\n",
    "    Returns the mean classification accuracy for a batch of predictions.\n",
    "    \n",
    "    Parameters\n",
    "    ----------\n",
    "    predictions : Union[numpy.ndarray, mg.Tensor], shape=(M, D)\n",
    "        The scores for D classes, for a batch of M data points\n",
    "    truth : numpy.ndarray, shape=(M,)\n",
    "        The true labels for each datum in the batch: each label is an\n",
    "        integer in [0, D)\n",
    "    \n",
    "    Returns\n",
    "    -------\n",
    "    float\n",
    "    \"\"\"\n",
    "    if isinstance(predictions, mg.Tensor):\n",
    "        predictions = predictions.data\n",
    "    return np.mean((torch.argmax(prediction, dim=1) == truth).cpu().numpy())"
   ]
  },
  {
   "cell_type": "code",
   "execution_count": null,
   "id": "e34ea1a6",
   "metadata": {},
   "outputs": [],
   "source": [
    "# We will place these tensors in gpu memory, if a gpu is available, otherwise\n",
    "# we will simply use the CPU. It is very unlikely that your laptop has a\n",
    "# GPU for us to leverage.\n",
    "device =  torch.device('cuda' if torch.cuda.is_available() else 'cpu')"
   ]
  },
  {
   "cell_type": "code",
   "execution_count": null,
   "id": "bd7476cd",
   "metadata": {},
   "outputs": [],
   "source": [
    "from noggin import create_plot\n",
    "plotter, fig, ax = create_plot(metrics=[\"loss\", \"accuracy\"])"
   ]
  },
  {
   "cell_type": "code",
   "execution_count": null,
   "id": "364e230f",
   "metadata": {},
   "outputs": [],
   "source": [
    "# initialize our model and place its parameters on the GPU if it is available\n",
    "model =  Model().to(device)\n",
    "\n",
    "# initialize the optimizer\n",
    "optim = torch.optim.Adam(model.parameters(), weight_decay=5E-3)"
   ]
  },
  {
   "cell_type": "code",
   "execution_count": null,
   "id": "7f1a7fee",
   "metadata": {},
   "outputs": [],
   "source": [
    "num_epoch = \n",
    "batch_size = \n",
    "\n",
    "for epoch_cnt in range(num_epoch):\n",
    "    train_data = torch.tensor(x_train).to(device)\n",
    "    test_data = torch.tensor(y_train, dtype=torch.int64).to(device)\n",
    "\n",
    "    X = torch.tensor(x_test).to(device)\n",
    "    Y = torch.tensor(y_test, dtype=torch.int64).to(device)"
   ]
  }
 ],
 "metadata": {
  "kernelspec": {
   "display_name": "Python 3",
   "language": "python",
   "name": "python3"
  },
  "language_info": {
   "codemirror_mode": {
    "name": "ipython",
    "version": 3
   },
   "file_extension": ".py",
   "mimetype": "text/x-python",
   "name": "python",
   "nbconvert_exporter": "python",
   "pygments_lexer": "ipython3",
   "version": "3.8.10"
  }
 },
 "nbformat": 4,
 "nbformat_minor": 5
}
